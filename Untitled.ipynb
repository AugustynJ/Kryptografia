{
 "cells": [
  {
   "cell_type": "markdown",
   "id": "bbd172f7",
   "metadata": {},
   "source": [
    "# Zarządzanie kluczami kryptograficznymi\n",
    "\n",
    "Projekt KrYpT0gR4f14\n",
    "\n",
    "Jakub Augustyn, Arkadiusz Ryba"
   ]
  },
  {
   "cell_type": "markdown",
   "id": "fd1a0996",
   "metadata": {},
   "source": [
    "## Agenda\n",
    "Da sie tu jakieś teleporty zrobić?\n",
    "1. Na czym polega bezpieczeństwo kryptografii?\n",
    "2. Techniki zarządzania kluczami w kryptografii symetrycznej\n",
    "3. Dystrybucja klucza w kryptografii asymetrycznej\n",
    "4. Protokół Diffie-Hellmana oraz STS\n",
    "5. Zastosowanie praktyczne"
   ]
  },
  {
   "cell_type": "markdown",
   "id": "8854d6f9",
   "metadata": {},
   "source": [
    "### 1. Na czym polega bezpieczeństwo kryptografii?\n",
    "\n",
    "W myśl zasady kerckhoffsa:\n",
    "\n",
    "*Bezpieczeństwo szyfru nie może opierać się na nieznajomości metody szyfrowania*\n",
    "\n",
    "Oznacza to że naawet jeśli osoba z zewnątrz pozna sposób szyfrowania, wszystkie dotyczące bo szczegóły poza samym kluczem, szyfr wciąż pozostaje bezpieczny.\n",
    "\n",
    "W związku z tym, aby komunikacja była szyfrowana i jednocześnie bezpieczna, należy zadbać bardzo dokładnie i sumiennie o dystrybucję klucza szyfrującego.\n",
    "\n",
    "**Jak zatem dostarczać klucz?**\n",
    "1. Fizyczne dostarczenie do drugiej strony\n",
    "2. Zaufana organizacja (np. KDC - Centrum Dystrybucji klucza) generuje i dostarcza dla każdej ze stron\n",
    "3. Szyfrowanie przy pomocy innego klucza (np. wykorzystywanego w poprzedniej sesji)\n",
    "\n",
    "Pierwsza opcja z listy wydaje się być na pierwszy rzut oka dobrym pomysłem, jednak gdy dochodzi do komunikacji więcej niż dwóch osób, problem rośnie bardzo szybko. Każda para osób wymaga oddzielnego klucza, aby szyfrowanie było w pełni tajne i niezrozumiałe dla osób z zewnątrz (*end-to-end encryption* - tylko autor i odbiorca mogą widzieć wiadomośc w wersji jawnej). W związku z tym dla *n* liczby osób ilość potrzebnych kluczy rośnie kwadratowo.\n",
    "\n",
    "Opcja trzecia także nie jest pozbawiona wad. Zauważmy, że w przypadku ataku *man in the middle* intruz będzie znał nie tylko obecną wiadomość, lecz także wszsytki przyszłe. Ponadto kiedyś trzeba „zacząć” komunikację, tzn. pierwszy klucz nie może być wygenerowany na podstawie wcześniejszych, bo ich nie ma.\n",
    "\n",
    "W związku z tym, dla większej ilości osób najczęściej stosuje się opcję nr **2**, lub jej pochodne kombinacje.\n",
    "Dzięki temu problem ilości potrzebnych kluczy maleje (w porównaniu z opcją nr. 1) z kwadratowego do liniowego (jedyne wymagane klucze to KDC z każdym z użytkowników).\n",
    "Do tego KDC wykorzystywane jest do połączeń między dwoma użytkownikami jako generator tymczasowego klucza sesji.\n",
    "\n",
    "\n",
    "\n",
    "**DALEJ NIE MAM POMYSŁU CO TU NAPISAĆ XD**"
   ]
  },
  {
   "cell_type": "markdown",
   "id": "ee479fad",
   "metadata": {},
   "source": [
    "### 2. Techniki zarządzania kluczami w kryptografii symetrycznej\n",
    "\n"
   ]
  },
  {
   "cell_type": "code",
   "execution_count": 2,
   "id": "cd3e5f78",
   "metadata": {},
   "outputs": [
    {
     "name": "stdout",
     "output_type": "stream",
     "text": [
      "p = 241166785070447308275925030684514392741\n",
      "a = 16734266292077134510432676552330243503, rev = 235486417083752079824307143695883988607\n",
      "b = 213973415681168081033477569521817405153, rev = 100807295041786755529669146024850035997\n",
      "\n",
      "Klucz sesji:             20617764362449404909788214345479156055\n",
      "Klucz wyliczony przez B: 20617764362449404909788214345479156055\n"
     ]
    }
   ],
   "source": [
    "from Crypto.Util.number import getPrime, GCD\n",
    "import random\n",
    "\n",
    "low_range, up_range = 128, 128\n",
    "\n",
    "# p = getPrime(random.randint(low_range, up_range))                   # jawna\n",
    "p = getPrime(128)\n",
    "\n",
    "# Ustalanie liczb a i b -> tajnych\n",
    "a = p-1\n",
    "while(GCD(a, p-1) > 1):\n",
    "    a = random.randint(2, p-1)\n",
    "a_rev = pow(a, -1, p-1)    \n",
    "\n",
    "\n",
    "b = p-1\n",
    "while(GCD(b, p-1) > 1 and a != b):\n",
    "    b = random.randint(2, p-1)\n",
    "b_rev = pow(b, -1, p-1)\n",
    "\n",
    "print(f\"p = {p}\\na = {a}, rev = {a_rev}\\nb = {b}, rev = {b_rev}\\n\")\n",
    "\n",
    "# Główny mechanizm działania\n",
    "K = random.randint(2, p)\n",
    "K_a = pow(K, a, p)              # A wysyla do B liczbe K^a\n",
    "K_a_b = pow(K_a, b, p)          # B wysyla do A liczbe K^(a*b)\n",
    "K_b = pow(K_a_b, a_rev, p)      # A liczy klucz i odsyla do B\n",
    "Key_B = pow(K_b, b_rev, p)      # B liczy klucz\n",
    "\n",
    "print(f\"Klucz sesji:             {K}\\nKlucz wyliczony przez B: {Key_B}\")"
   ]
  },
  {
   "cell_type": "code",
   "execution_count": null,
   "id": "f57b0356",
   "metadata": {},
   "outputs": [],
   "source": []
  },
  {
   "cell_type": "code",
   "execution_count": null,
   "id": "289840fa",
   "metadata": {},
   "outputs": [],
   "source": []
  }
 ],
 "metadata": {
  "kernelspec": {
   "display_name": "Python 3 (ipykernel)",
   "language": "python",
   "name": "python3"
  },
  "language_info": {
   "codemirror_mode": {
    "name": "ipython",
    "version": 3
   },
   "file_extension": ".py",
   "mimetype": "text/x-python",
   "name": "python",
   "nbconvert_exporter": "python",
   "pygments_lexer": "ipython3",
   "version": "3.10.6"
  },
  "vscode": {
   "interpreter": {
    "hash": "916dbcbb3f70747c44a77c7bcd40155683ae19c65e1c03b4aa3499c5328201f1"
   }
  }
 },
 "nbformat": 4,
 "nbformat_minor": 5
}
