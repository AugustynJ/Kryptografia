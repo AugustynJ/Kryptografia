{
 "cells": [
  {
   "cell_type": "markdown",
   "id": "bbd172f7",
   "metadata": {},
   "source": [
    "# Zarządzanie kluczami kryptograficznymi\n",
    "\n",
    "Projekt KrYpT0gR4f14\n",
    "\n",
    "Jakub Augustyn, Arkadiusz Ryba"
   ]
  },
  {
   "cell_type": "markdown",
   "id": "fd1a0996",
   "metadata": {},
   "source": [
    "## Agenda\n",
    "Da sie tu jakieś teleporty zrobić?\n",
    "1. Na czym polega bezpieczeństwo kryptografii?\n",
    "2. Techniki zarządzania kluczami w kryptografii symetrycznej\n",
    "3. Dystrybucja klucza w kryptografii asymetrycznej\n",
    "4. Protokół Diffie-Hellmana oraz STS\n",
    "5. Zastosowanie praktyczne"
   ]
  },
  {
   "cell_type": "markdown",
   "id": "8854d6f9",
   "metadata": {},
   "source": [
    "### 1. Na czym polega bezpieczeństwo kryptografii?\n",
    "\n",
    "W myśl zasady kerckhoffsa:\n",
    "\n",
    "*Bezpieczeństwo szyfru nie może opierać się na nieznajomości metody szyfrowania*\n",
    "\n",
    "Oznacza to że naawet jeśli osoba z zewnątrz pozna sposób szyfrowania, wszystkie dotyczące bo szczegóły poza samym kluczem, szyfr wciąż pozostaje bezpieczny.\n",
    "\n",
    "W związku z tym, aby komunikacja była szyfrowana i jednocześnie bezpieczna, należy zadbać bardzo dokładnie i sumiennie o dystrybucję klucza szyfrującego.\n",
    "\n",
    "**Jak zatem dostarczać klucz?**\n",
    "1. Fizyczne dostarczenie do drugiej strony\n",
    "2. Zaufana organizacja (np. KDC - Centrum Dystrybucji klucza) generuje i dostarcza dla każdej ze stron\n",
    "3. Szyfrowanie przy pomocy innego klucza (np. wykorzystywanego w poprzedniej sesji)\n",
    "\n",
    "Pierwsza opcja z listy wydaje się być na pierwszy rzut oka dobrym pomysłem, jednak gdy dochodzi do komunikacji więcej niż dwóch osób, problem rośnie bardzo szybko. Każda para osób wymaga oddzielnego klucza, aby szyfrowanie było w pełni tajne i niezrozumiałe dla osób z zewnątrz (*end-to-end encryption* - tylko autor i odbiorca mogą widzieć wiadomośc w wersji jawnej). W związku z tym dla *n* liczby osób ilość potrzebnych kluczy rośnie kwadratowo.\n",
    "\n",
    "Opcja trzecia także nie jest pozbawiona wad. Zauważmy, że w przypadku ataku *man in the middle* intruz będzie znał nie tylko obecną wiadomość, lecz także wszsytki przyszłe. Ponadto kiedyś trzeba „zacząć” komunikację, tzn. pierwszy klucz nie może być wygenerowany na podstawie wcześniejszych, bo ich nie ma.\n",
    "\n",
    "W związku z tym, dla większej ilości osób najczęściej stosuje się opcję nr **2**, lub jej pochodne kombinacje.\n",
    "Dzięki temu problem ilości potrzebnych kluczy maleje (w porównaniu z opcją nr. 1) z kwadratowego do liniowego (jedyne wymagane klucze to KDC z każdym z użytkowników).\n",
    "Do tego KDC wykorzystywane jest do połączeń między dwoma użytkownikami jako generator tymczasowego klucza sesji.\n",
    "\n",
    "\n",
    "\n",
    "**DALEJ NIE MAM POMYSŁU CO TU NAPISAĆ XD**"
   ]
  },
  {
   "cell_type": "markdown",
   "id": "ee479fad",
   "metadata": {},
   "source": [
    "### 2. Techniki zarządzania kluczami w kryptografii symetrycznej\n",
    "\n"
   ]
  },
  {
   "cell_type": "code",
   "execution_count": 1,
   "id": "cd3e5f78",
   "metadata": {},
   "outputs": [
    {
     "name": "stdout",
     "output_type": "stream",
     "text": [
      "p = 246191334163357395317659268968507301243\n",
      "a = 127592124589428291209507424033794374299, rev = 197292727488954020590836408510425961565\n",
      "b = 47986877298124175673823506451712657393, rev = 194985420286319132176290690532971296195\n",
      "\n",
      "Klucz sesji:             217870858043878753186093221569637647731\n",
      "Klucz wyliczony przez B: 217870858043878753186093221569637647731\n"
     ]
    }
   ],
   "source": [
    "# ALGORYTM SHAMIRA\n",
    "\n",
    "from Crypto.Util.number import getPrime, GCD\n",
    "import random\n",
    "\n",
    "low_range, up_range = 128, 128\n",
    "\n",
    "# p = getPrime(random.randint(low_range, up_range))                   # jawna\n",
    "p = getPrime(128)\n",
    "\n",
    "# Ustalanie liczb a i b -> tajnych\n",
    "a = p-1\n",
    "while(GCD(a, p-1) > 1):\n",
    "    a = random.randint(2, p-1)\n",
    "a_rev = pow(a, -1, p-1)    \n",
    "\n",
    "\n",
    "b = p-1\n",
    "while(GCD(b, p-1) > 1 and a != b):\n",
    "    b = random.randint(2, p-1)\n",
    "b_rev = pow(b, -1, p-1)\n",
    "\n",
    "print(f\"p = {p}\\na = {a}, rev = {a_rev}\\nb = {b}, rev = {b_rev}\\n\")\n",
    "\n",
    "# Główny mechanizm działania\n",
    "K = random.randint(2, p)\n",
    "K_a = pow(K, a, p)              # A wysyla do B liczbe K^a\n",
    "K_a_b = pow(K_a, b, p)          # B wysyla do A liczbe K^(a*b)\n",
    "K_b = pow(K_a_b, a_rev, p)      # A liczy klucz i odsyla do B\n",
    "Key_B = pow(K_b, b_rev, p)      # B liczy klucz\n",
    "\n",
    "print(f\"Klucz sesji:             {K}\\nKlucz wyliczony przez B: {Key_B}\")"
   ]
  },
  {
   "cell_type": "markdown",
   "id": "c76943be",
   "metadata": {},
   "source": [
    "### Shitpost odnośnie kurw eliptycznych\n",
    "Co to jest krzywa eliptyczna?\n",
    "\n",
    "Równanie przedstawia sie wzorem:\n",
    "\n",
    "$y^2 = x^3 + ax + b $\n",
    "\n",
    "gdzie *a, b* są ustalonymi parametrami.\n",
    "\n",
    "W kryptografii najczęściej bierze się pod uwagę krzywe rozpięte nad ciałami $ \\mathbb{Z}_k $, tzn. wszystkie wartości bierzemy $ mod k $.\n",
    "\n",
    "Punkty należące do krzywej eliptycznej są **grupą**, o ile krzywa spełnia $ \\Delta = 4a^3+27b^2 \\ne 0 $ (oczywiście *mod k* ).\n",
    "\n",
    "**Dodawanie** punktów krzywej eliptycznej nie wygląda jak zwykłe, znane nam z działań na liczbach rzeczywistych.\n",
    "Jak zatem dodawać punkty?\n",
    "\n",
    "Jeśli $ x_1 = x_2 $, ale $ y_1 \\ne y_2 $:\n",
    "\n"
   ]
  },
  {
   "cell_type": "code",
   "execution_count": null,
   "id": "f57b0356",
   "metadata": {},
   "outputs": [],
   "source": [
    "# DIFFIE - HELLMAN NA KRZYWYCH ELIPTYCZNYCH\n",
    "# Czasem nie działa, rng musi być dobre, odbuguje kiedyś\n",
    "# Na razie statycznie, spróbuje na randintach w wolnym czasie\n",
    "\n",
    "from math import inf\n",
    "import random\n",
    "\n",
    "class Point():\n",
    "    def __init__(self, x, y):\n",
    "        self.x = x\n",
    "        self.y = y\n",
    "        \n",
    "    def __str__(self):\n",
    "        return f'({self.x}, {self.y})'\n",
    "\n",
    "def sum_points(P: Point, Q: Point, a, b, m) -> Point:\n",
    "    R = Point(0, 0)\n",
    "    \n",
    "    if(P.x == Q.x and P.y == Q.y):\n",
    "        s = ((3*(P.x**2) + a) * pow(2*P.y, -1, m))\n",
    "        s %= m\n",
    "        R.x = s**2 - 2*P.x\n",
    "        R.y = (-1)*(P.y + s*(R.x - P.x))\n",
    "        \n",
    "    elif(P.x != Q.x):\n",
    "        s = (Q.y - P.y) * pow((Q.x - P.x), -1, m)\n",
    "        s %= m\n",
    "        R.x = s**2 - P.x - Q.x\n",
    "        R.y = (-1)*P.y + s*(P.x - R.x)\n",
    "        \n",
    "    elif(P.x == Q.x):\n",
    "        R.x, R.y = inf, inf\n",
    "        \n",
    "    R.x %= m\n",
    "    R.y %= m\n",
    "    return R\n",
    "\n",
    "def multiply_point(P: Point, k, a, b, m) -> Point:\n",
    "    R = P\n",
    "    i = 1\n",
    "    while(i < k):\n",
    "        R = sum_points(R, P, a, b, m)\n",
    "        i += 1\n",
    "    return R\n",
    "    \n",
    "\n",
    "# Wybieranie początkowych parametrów\n",
    "# y^2 = x^3 + ax + b    mod m\n",
    "a, b, m = 9, 17, 23\n",
    "G = Point(16, 5)                    # musi należeć do krzywej\n",
    "\n",
    "d_A = random.randint(1, m-1)        # Klucze prywatne, tajne\n",
    "d_B = random.randint(1, m-1)\n",
    "\n",
    "G_A = multiply_point(G, d_A, a, b, m)        # Klucze publiczne, jawne\n",
    "G_B = multiply_point(G, d_B, a, b, m)\n",
    "\n",
    "Key_A = multiply_point(G_B, d_A, a, b, m)    # Wyliczanie umówionego klucza\n",
    "Key_B = multiply_point(G_A, d_B, a, b, m)\n",
    "\n",
    "print(\"Klucz wyliczony przez Alicje: \", Key_A, \"\\nKlucz wyliczony przez Boba: \", Key_B) \n"
   ]
  },
  {
   "cell_type": "code",
   "execution_count": null,
   "id": "289840fa",
   "metadata": {},
   "outputs": [],
   "source": []
  }
 ],
 "metadata": {
  "kernelspec": {
   "display_name": "Python 3 (ipykernel)",
   "language": "python",
   "name": "python3"
  },
  "language_info": {
   "codemirror_mode": {
    "name": "ipython",
    "version": 3
   },
   "file_extension": ".py",
   "mimetype": "text/x-python",
   "name": "python",
   "nbconvert_exporter": "python",
   "pygments_lexer": "ipython3",
   "version": "3.10.6"
  },
  "vscode": {
   "interpreter": {
    "hash": "916dbcbb3f70747c44a77c7bcd40155683ae19c65e1c03b4aa3499c5328201f1"
   }
  }
 },
 "nbformat": 4,
 "nbformat_minor": 5
}
