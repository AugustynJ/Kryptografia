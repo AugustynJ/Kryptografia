{
 "cells": [
  {
   "cell_type": "markdown",
   "id": "bbd172f7",
   "metadata": {},
   "source": [
    "# Zarządzanie kluczami kryptograficznymi\n",
    "\n",
    "\n",
    "Jakub Augustyn, Arkadiusz Ryba\n",
    "Cyberbezpieczeństwo"
   ]
  },
  {
   "cell_type": "markdown",
   "id": "fd1a0996",
   "metadata": {},
   "source": [
    "## Agenda\n",
    "\n",
    "1. Na czym polega bezpieczeństwo kryptografii?\n",
    "2. Techniki zarządzania kluczami w kryptografii symetrycznej\n",
    "3. Dystrybucja klucza w kryptografii asymetrycznej\n",
    "4. Protokół Diffie-Hellmana oraz Station to station\n",
    "5. Zastosowanie praktyczne"
   ]
  },
  {
   "cell_type": "markdown",
   "id": "f81fd288",
   "metadata": {},
   "source": [
    "### 1. Na czym polega bezpieczeństwo kryptografii?\n",
    "\n",
    "W myśl zasady kerckhoffsa:\n",
    "\n",
    ">Bezpieczeństwo szyfru nie może opierać się na nieznajomości metody szyfrowania\n",
    "\n",
    "Oznacza to że nawet jeśli osoba z zewnątrz pozna sposób szyfrowania oraz wszystkie szczegóły dotyczące działania algorytmu poza samym kluczem, szyfrogram wciąż pozostaje bezpieczny. Inaczej mówiąc, bezpieczeństwo polega na jednym składniku - kluczu. \n",
    "\n",
    "W przypadku szyfru idealnego - matematycznie udowodnionego za nie do złamania, najsłabszym ogniwem nie są same klucze - tylko ich bezpieczna dystrybucja bez udziału osób niepostronnych\n",
    "\n",
    "W związku z tym, aby komunikacja była szyfrowana i tym samym bezpieczna, należy znaleźć sposób bezpiecznej dystrybucji klucza szyfrującego komunikację. \n",
    "\n",
    "Wymiana lub ustalanie kluczy kryptograficznych w sposób bezpieczny jest koniecznością w przypadku stosowania szyfrów symetrycznych.\n",
    "\n",
    "\n",
    "**Jak zatem dostarczać klucz?**\n",
    "1. Fizyczne dostarczenie do drugiej strony - tak zwane *point-to-point*\n",
    "2. Pośrednik w postaci zaufana organizacji (np. KDC - Centrum Dystrybucji klucza) - generuje klucze i dostarcza odpowiednio dla każdej ze stron\n",
    "3. Poprzez przesłanie zaszyfrowanego klucza przy pomocy innego klucza (np. wykorzystywanego w poprzedniej sesji)\n",
    " - nawet jawnym łączem\n",
    " \n",
    " Wszystkie powyższe metody mają jednocześnie słabe i mocne strony, dlatego są stosowane w różnych sytuacjach\n",
    " \n",
    "Pierwsza opcja z listy wydaje się być na pierwszy rzut oka dobrym pomysłem, jednak gdy dochodzi do komunikacji więcej niż dwóch osób, problem rośnie bardzo szybko - jest *nieskalowalny*. Każda para osób wymaga oddzielnego klucza, aby szyfrogram był niezrozumiały dla osób z zewnątrz (*end-to-end encryption* - tylko autor i odbiorca mogą widzieć wiadomośc w wersji jawnej). W związku z tym dla *n* liczby osób ilość potrzebnych kluczy rośnie kwadratowo. Sposób przeznaczony tylko w sytuacjach, które wymagają szczególnej poufności, jak i samego faktu zatajenia komunikacji. \n",
    "\n",
    "Opcja trzecia także nie jest pozbawiona wad. Zauważmy, że w przypadku ataku typu *man in the middle* intruz będzie znał nie tylko obecną wiadomość, lecz także wszytkie przyszłe, zakładając, że znany jest sposób generowania klucza . Ponadto wciąż problemem jest, jak dostarczyć ten pierwszy inicjilizujący komunikację? Również istnieją także rozwiązania - a ich plusem z pewnością jest małe zużycie dostępnych zasobów.\n",
    "\n",
    "W związku z tym, dla większej ilości osób można zastosujować się opcję nr **2**, lub jej pochodne kombinacje.\n",
    "Centrum dystrybucji klucza jest to jednostka odpowiedzialna za odpowiednie wybranie i rozsyłanie kluczy sesji do wszystkich użytkowników o to proszących. Takie centrum przechowuje wtedy tyle kluczy, ile jest użytkowników\n",
    "Dzięki takiemu rozwiązaniu problem ilości potrzebnych kluczy maleje (w porównaniu z opcją nr. 1) a samą dystrybucją zajmuje się centrum, a nie użytkownik. \n",
    "Do tego KDC wykorzystywane jest do połączeń między dwoma użytkownikami jako generator tymczasowego klucza sesji.\n",
    "CDK wchodzi w skład tak zwanej jej publicznej infrastruktury klucza - jednostki odpowiedzialnej również za uwierzytelnianie użytkowników, które może być przydatne w zwiększeniu zaufania do jednostki przekazującej klucz\n",
    "\n",
    "\n"
   ]
  },
  {
   "cell_type": "markdown",
   "id": "ee479fad",
   "metadata": {},
   "source": [
    "### 2. Techniki zarządzania kluczami w kryptografii symetrycznej\n",
    "\n",
    "Jedną ze słabości słabością kryptografii klucza asymetrycznego jest fakt, że musimy wysłać ten klucz jawnym łączem i trzymać kciuki, żeby nikt go nie odtworzył -  z pomocą przychodzi matematyka. We wszystkich kryptosystemach uzyskanie klucza prywatnego na podstawie publicznego musi być obliczeniowo trudne. \n",
    "\n",
    "Asymetria algorytmu szyfrującego ma nie gwarantować bezpieczeństwa teoretycznego, tylko praktyczne - mianowicie, że faktoryzacja klucza ma trwać tak długo, że będzie niepraktyczna (szyfr zostanie złamany, kiedy informacja będzie już nieważna)."
   ]
  },
  {
   "cell_type": "markdown",
   "id": "aca095f4",
   "metadata": {},
   "source": [
    "### Algorytm Shamira"
   ]
  },
  {
   "cell_type": "code",
   "execution_count": 8,
   "id": "cd3e5f78",
   "metadata": {},
   "outputs": [
    {
     "ename": "ModuleNotFoundError",
     "evalue": "No module named 'Crypto'",
     "output_type": "error",
     "traceback": [
      "\u001b[0;31m---------------------------------------------------------------------------\u001b[0m",
      "\u001b[0;31mModuleNotFoundError\u001b[0m                       Traceback (most recent call last)",
      "Input \u001b[0;32mIn [8]\u001b[0m, in \u001b[0;36m<cell line: 3>\u001b[0;34m()\u001b[0m\n\u001b[1;32m      1\u001b[0m \u001b[38;5;66;03m# ALGORYTM SHAMIRA\u001b[39;00m\n\u001b[0;32m----> 3\u001b[0m \u001b[38;5;28;01mfrom\u001b[39;00m \u001b[38;5;21;01mCrypto\u001b[39;00m\u001b[38;5;21;01m.\u001b[39;00m\u001b[38;5;21;01mUtil\u001b[39;00m\u001b[38;5;21;01m.\u001b[39;00m\u001b[38;5;21;01mnumber\u001b[39;00m \u001b[38;5;28;01mimport\u001b[39;00m getPrime, GCD\n\u001b[1;32m      4\u001b[0m \u001b[38;5;28;01mimport\u001b[39;00m \u001b[38;5;21;01mrandom\u001b[39;00m\n\u001b[1;32m      6\u001b[0m low_range, up_range \u001b[38;5;241m=\u001b[39m \u001b[38;5;241m128\u001b[39m, \u001b[38;5;241m128\u001b[39m\n",
      "\u001b[0;31mModuleNotFoundError\u001b[0m: No module named 'Crypto'"
     ]
    }
   ],
   "source": [
    "# ALGORYTM SHAMIRA\n",
    "\n",
    "from Crypto.Util.number import getPrime, GCD\n",
    "import random\n",
    "\n",
    "low_range, up_range = 128, 128\n",
    "\n",
    "# p = getPrime(random.randint(low_range, up_range))                   # jawna\n",
    "p = getPrime(128)\n",
    "\n",
    "# Ustalanie liczb a i b -> tajnych\n",
    "a = p-1\n",
    "while(GCD(a, p-1) > 1):\n",
    "    a = random.randint(2, p-1)\n",
    "a_rev = pow(a, -1, p-1)    \n",
    "\n",
    "\n",
    "b = p-1\n",
    "while(GCD(b, p-1) > 1 and a != b):\n",
    "    b = random.randint(2, p-1)\n",
    "b_rev = pow(b, -1, p-1)\n",
    "\n",
    "print(f\"p = {p}\\na = {a}, rev = {a_rev}\\nb = {b}, rev = {b_rev}\\n\")\n",
    "\n",
    "# Główny mechanizm działania\n",
    "K = random.randint(2, p)\n",
    "K_a = pow(K, a, p)              # A wysyla do B liczbe K^a\n",
    "K_a_b = pow(K_a, b, p)          # B wysyla do A liczbe K^(a*b)\n",
    "K_b = pow(K_a_b, a_rev, p)      # A liczy klucz i odsyla do B\n",
    "Key_B = pow(K_b, b_rev, p)      # B liczy klucz\n",
    "\n",
    "print(f\"Klucz sesji:             {K}\\nKlucz wyliczony przez B: {Key_B}\")"
   ]
  },
  {
   "cell_type": "markdown",
   "id": "c76943be",
   "metadata": {},
   "source": [
    "### Kwintesencja geometrii w zastosowaniach kryptograficznych - krzywe eliptyczne\n",
    "Co to jest krzywa eliptyczna?\n",
    "\n",
    "Jest to krzywa matematyczna, której równanie przedstawia sie wzorem:\n",
    "\n",
    "$y^2 = x^3 + ax + b $\n",
    "\n",
    "gdzie *a, b* są ustalonymi parametrami.\n",
    "\n",
    "W kryptografii najczęściej bierze się pod uwagę krzywe rozpięte nad ciałami $ \\mathbb{Z}_k $, tzn. wszystkie wartości bierzemy $ mod k $.\n",
    "\n",
    "Punkty należące do krzywej eliptycznej są **grupą**, o ile krzywa spełnia $ \\Delta = 4a^3+27b^2 \\ne 0 $ (oczywiście *mod k* ).\n",
    "\n",
    "**Dodawanie** punktów krzywej eliptycznej nie wygląda jak zwykłe, znane nam z działań na liczbach rzeczywistych.\n",
    "Jak zatem dodawać punkty?\n",
    "\n",
    "Jeśli $ x_1 = x_2 $, ale $ y_1 \\ne y_2 $:\n",
    "\n"
   ]
  },
  {
   "cell_type": "code",
   "execution_count": 3,
   "id": "f57b0356",
   "metadata": {},
   "outputs": [
    {
     "name": "stdout",
     "output_type": "stream",
     "text": [
      "Klucz wyliczony przez Alicje:  (14, 9) \n",
      "Klucz wyliczony przez Boba:  (14, 9)\n"
     ]
    }
   ],
   "source": [
    "# DIFFIE - HELLMAN NA KRZYWYCH ELIPTYCZNYCH\n",
    "# Czasem nie działa, rng musi być dobre, odbuguje kiedyś\n",
    "# Na razie statycznie, spróbuje na randintach w wolnym czasie\n",
    "\n",
    "from math import inf\n",
    "import random\n",
    "\n",
    "class Point():\n",
    "    def __init__(self, x, y):\n",
    "        self.x = x\n",
    "        self.y = y\n",
    "        \n",
    "    def __str__(self):\n",
    "        return f'({self.x}, {self.y})'\n",
    "\n",
    "def sum_points(P: Point, Q: Point, a, b, m) -> Point:\n",
    "    R = Point(0, 0)\n",
    "    \n",
    "    if(P.x == Q.x and P.y == Q.y):\n",
    "        s = ((3*(P.x**2) + a) * pow(2*P.y, -1, m))\n",
    "        s %= m\n",
    "        R.x = s**2 - 2*P.x\n",
    "        R.y = (-1)*(P.y + s*(R.x - P.x))\n",
    "        \n",
    "    elif(P.x != Q.x):\n",
    "        s = (Q.y - P.y) * pow((Q.x - P.x), -1, m)\n",
    "        s %= m\n",
    "        R.x = s**2 - P.x - Q.x\n",
    "        R.y = (-1)*P.y + s*(P.x - R.x)\n",
    "        \n",
    "    elif(P.x == Q.x):\n",
    "        R.x, R.y = inf, inf\n",
    "        \n",
    "    R.x %= m\n",
    "    R.y %= m\n",
    "    return R\n",
    "\n",
    "def multiply_point(P: Point, k, a, b, m) -> Point:\n",
    "    R = P\n",
    "    i = 1\n",
    "    while(i < k):\n",
    "        R = sum_points(R, P, a, b, m)\n",
    "        i += 1\n",
    "    return R\n",
    "    \n",
    "\n",
    "# Wybieranie początkowych parametrów\n",
    "# y^2 = x^3 + ax + b    mod m\n",
    "a, b, m = 9, 17, 23\n",
    "G = Point(16, 5)                    # musi należeć do krzywej\n",
    "\n",
    "d_A = random.randint(1, m-1)        # Klucze prywatne, tajne\n",
    "d_B = random.randint(1, m-1)\n",
    "\n",
    "G_A = multiply_point(G, d_A, a, b, m)        # Klucze publiczne, jawne\n",
    "G_B = multiply_point(G, d_B, a, b, m)\n",
    "\n",
    "Key_A = multiply_point(G_B, d_A, a, b, m)    # Wyliczanie umówionego klucza\n",
    "Key_B = multiply_point(G_A, d_B, a, b, m)\n",
    "\n",
    "print(\"Klucz wyliczony przez Alicje: \", Key_A, \"\\nKlucz wyliczony przez Boba: \", Key_B) \n"
   ]
  },
  {
   "cell_type": "markdown",
   "id": "8f60837d",
   "metadata": {},
   "source": [
    "Tutaj jakaś teoria o Diffiem i jego słabości\n",
    "**Jak zatem chronić się przez atakiem man-in-the-middle?**"
   ]
  },
  {
   "cell_type": "markdown",
   "id": "b753fe15",
   "metadata": {},
   "source": [
    "### Protokół Station-to-Station (STS)\n",
    "\n",
    "Wyłoniony w 1987 w ramach konkursu *ISDN security* algorytm w głównej mierze bazuje na algorytmie Diffiego-Hellmana jednakże rozszerza go o możliwość uwierzytelniania użytkowników - tym samym zwiększając wiarygodność stron w ustalaniu klucza\n",
    "\n",
    "W praktyce stosuje się go w protokole SSL/TLS - jednakże nie bezpośrednio. Najpierw uwierzytelnia się podmiot (klienta lub serwer) za pomocą certyfikatu, a następnie następuje ustalanie klucza za pomocą algorytmu Diffiego-Hellmana."
   ]
  },
  {
   "cell_type": "code",
   "execution_count": null,
   "id": "548e5159",
   "metadata": {},
   "outputs": [],
   "source": []
  }
 ],
 "metadata": {
  "kernelspec": {
   "display_name": "Python 3 (ipykernel)",
   "language": "python",
   "name": "python3"
  },
  "language_info": {
   "codemirror_mode": {
    "name": "ipython",
    "version": 3
   },
   "file_extension": ".py",
   "mimetype": "text/x-python",
   "name": "python",
   "nbconvert_exporter": "python",
   "pygments_lexer": "ipython3",
   "version": "3.8.16"
  },
  "vscode": {
   "interpreter": {
    "hash": "916dbcbb3f70747c44a77c7bcd40155683ae19c65e1c03b4aa3499c5328201f1"
   }
  }
 },
 "nbformat": 4,
 "nbformat_minor": 5
}
